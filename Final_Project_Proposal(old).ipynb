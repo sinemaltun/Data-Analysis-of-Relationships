{
 "cells": [
  {
   "cell_type": "markdown",
   "id": "37fb7c65",
   "metadata": {},
   "source": [
    "# MAT 388E PROJECT "
   ]
  },
  {
   "cell_type": "markdown",
   "id": "a5873fbd",
   "metadata": {},
   "source": [
    "## Project Name \n",
    "Data Analysis of Relationships"
   ]
  },
  {
   "cell_type": "markdown",
   "id": "cad72d13",
   "metadata": {},
   "source": [
    "## Project Owner\n",
    "Sinem Faide Altun\n",
    "\n",
    "altuns20@itu.edu.tr\n",
    "\n",
    "090200360"
   ]
  },
  {
   "cell_type": "markdown",
   "id": "d8153428",
   "metadata": {},
   "source": [
    "## Data\n",
    "The data for the project is the **Speed Dating Experiment** data by Anna Montoya.\n",
    "\n",
    "This data contains the process of 21 speed dating experiments between October 16, 2002 and April 7, 2004. The participants spend approximately 4 minutes with other participants and get to know them. In the end there is a decision column, in binary form which indicates whether they would like to see that person again. What makes this experiment exciting is the surveys participants fill out throughout, before and after the dates. \n",
    "\n",
    "It is a good data to test if how people percieve love (at first sight) change based on their preferences or if there are universal attributes that can create chemistry between two people. The data allows us to analysize participants' background and personalities, and what they ideally look for, in a partner. \n",
    "\n",
    "> https://www.kaggle.com/datasets/annavictoria/speed-dating-experiment"
   ]
  },
  {
   "cell_type": "markdown",
   "id": "feba28e8",
   "metadata": {},
   "source": [
    "## Project Planning\n",
    "The questions I want to ask and the aspects I want to analyise is summarized below:\n",
    "\n",
    "* The main hypothesis I want to test is based on the common saying which is **opposites attract**.  I want to see whether this is true or not. I can test this by defining what opposites mean? Does it mean different races, different religion beliefs or different interests? I can test by creating several categories.\n",
    "\n",
    "* Are there participants who match with people who have opposite qualities they specified in their before date survey? Do people change their minds and drop their preferences once they meet someone they'd like to match? (For example imagine a participant said they want to date someone with the same race as them, in the end do they match with someone in a different race?)\n",
    "\n",
    "* Based on the surveys filled out before the dates what are the main qualities people look for in the opposite gender? Do these answers differ for women and men? I would expect that women and men give different answers to this question.\n",
    "\n",
    "* Do people's primary goal in participating in this event affect their outcome? (For example should we expect people who are looking for a serious relationship to find more or less matches than the ones who are not.)"
   ]
  },
  {
   "cell_type": "markdown",
   "id": "932f10c7",
   "metadata": {},
   "source": [
    "I am planning on doing **descriptive analysis** to explain what happened, what are the outcomes of the dates, who matched who. **Exploratory analysis** to do initial investigations, for example how many participants are there and **diagnostic analysis** to make sense of what we have which is an important part of the project? WHY do two people match?"
   ]
  },
  {
   "cell_type": "markdown",
   "id": "f64cf88b",
   "metadata": {},
   "source": [
    "Doing regression analysis seems reasonable, the decision attribute being the dependent variables, and others being independent variables. I can also work with clustering algorithms. Are attractive people more likely to find matches? or how do people who are looking for non-serious relationships act?"
   ]
  },
  {
   "cell_type": "markdown",
   "id": "bfbc30ee",
   "metadata": {},
   "source": [
    "## Hardware and Software\n",
    "* Operating system: Windows 11\n",
    "\n",
    "\n",
    "* Development Enviorenment: Jupyter Notebook \n",
    "\n",
    "\n",
    "* Software: Anaconda, Pandas, Python 3"
   ]
  },
  {
   "cell_type": "markdown",
   "id": "e6378d42-5162-4c09-a6a6-085bd4d47b79",
   "metadata": {},
   "source": [
    "## Atabey's notes\n",
    "\n",
    "I like the dataset and the questions you'd like to ask. Good choice! However, you must provide some details. First, show a sample of the data and then explain what each piece represents. You must also explain what ML algorithms are available to test your questions and hypotheses. Among those you can use, which ones are you going to choose? Why? How are the ML algorithms going to help you to answer your questions? What are the tests you are going to use to see if the data/experiments support or contradict with your hypotheses? I also need a calendar: what are you going to do and when?"
   ]
  },
  {
   "cell_type": "code",
   "execution_count": null,
   "id": "22df10f3-7024-4b17-b82e-d7b05e17b890",
   "metadata": {},
   "outputs": [],
   "source": []
  }
 ],
 "metadata": {
  "kernelspec": {
   "display_name": "Python 3 (ipykernel)",
   "language": "python",
   "name": "python3"
  },
  "language_info": {
   "codemirror_mode": {
    "name": "ipython",
    "version": 3
   },
   "file_extension": ".py",
   "mimetype": "text/x-python",
   "name": "python",
   "nbconvert_exporter": "python",
   "pygments_lexer": "ipython3",
   "version": "3.10.8"
  }
 },
 "nbformat": 4,
 "nbformat_minor": 5
}
