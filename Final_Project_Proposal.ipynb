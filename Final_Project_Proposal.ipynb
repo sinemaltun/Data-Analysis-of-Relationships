{
 "cells": [
  {
   "cell_type": "markdown",
   "id": "37fb7c65",
   "metadata": {},
   "source": [
    "# MAT 388E PROJECT "
   ]
  },
  {
   "cell_type": "markdown",
   "id": "a5873fbd",
   "metadata": {},
   "source": [
    "## Project Name \n",
    "Data Analysis of Relationships"
   ]
  },
  {
   "cell_type": "markdown",
   "id": "cad72d13",
   "metadata": {},
   "source": [
    "## Project Owner\n",
    "Sinem Faide Altun\n",
    "\n",
    "altuns20@itu.edu.tr\n",
    "\n",
    "090200360"
   ]
  },
  {
   "cell_type": "markdown",
   "id": "d8153428",
   "metadata": {},
   "source": [
    "## Data\n",
    "The data for the project is the **Speed Dating Experiment** data by Anna Montoya.\n",
    "\n",
    "This data contains the process of 21 speed dating experiments between October 16, 2002 and April 7, 2004. The participants spend approximately 4 minutes with other participants and get to know them. In the end there is a decision column, in binary form which indicates whether they would like to see that person again. What makes this experiment exciting is the surveys participants fill out throughout, before and after the dates. \n",
    "\n",
    "It is a good data to test if how people percieve love (at first sight) change based on their preferences or if there are universal attributes that can create chemistry between two people. The data allows us to analysize participants' background and personalities, and what they ideally look for, in a partner. \n",
    "\n",
    "> https://www.kaggle.com/datasets/annavictoria/speed-dating-experiment"
   ]
  },
  {
   "cell_type": "markdown",
   "id": "feba28e8",
   "metadata": {},
   "source": [
    "## Project Planning\n",
    "The questions I want to ask and the aspects I want to analyise is summarized below:\n",
    "\n",
    "* The main hypothesis I want to test is based on the common saying which is **opposites attract**.  I want to see whether this is true or not. I can test this by defining what opposites mean? Does it mean different races, different religion beliefs or different interests? I can test by creating several categories.\n",
    "\n",
    "* Are there participants who match with people who have opposite qualities they specified in their before date survey? Do people change their minds and drop their preferences once they meet someone they'd like to match? (For example imagine a participant said they want to date someone with the same race as them, in the end do they match with someone in a different race?)\n",
    "\n",
    "* Based on the surveys filled out before the dates what are the main qualities people look for in the opposite gender? Do these answers differ for women and men? I would expect that women and men give different answers to this question.\n",
    "\n",
    "* Do people's primary goal in participating in this event affect their outcome? (For example should we expect people who are looking for a serious relationship to find more or less matches than the ones who are not.)"
   ]
  },
  {
   "cell_type": "markdown",
   "id": "932f10c7",
   "metadata": {},
   "source": [
    "I am planning on doing **descriptive analysis** to explain what happened, what are the outcomes of the dates, who matched who. **Exploratory analysis** to do initial investigations, for example how many participants are there and **diagnostic analysis** to make sense of what we have which is an important part of the project? WHY do two people match?"
   ]
  },
  {
   "cell_type": "markdown",
   "id": "f64cf88b",
   "metadata": {},
   "source": [
    "Doing regression analysis seems reasonable, the decision attribute being the dependent variables, and others being independent variables. I can also work with clustering algorithms. Are attractive people more likely to find matches? or how do people who are looking for non-serious relationships act?"
   ]
  },
  {
   "cell_type": "markdown",
   "id": "bfbc30ee",
   "metadata": {},
   "source": [
    "## Hardware and Software\n",
    "* Operating system: Windows 11\n",
    "\n",
    "\n",
    "* Development Enviorenment: Jupyter Notebook \n",
    "\n",
    "\n",
    "* Software: Anaconda, Pandas, Python 3"
   ]
  },
  {
   "cell_type": "markdown",
   "id": "e6378d42-5162-4c09-a6a6-085bd4d47b79",
   "metadata": {},
   "source": [
    "## Atabey's notes\n",
    "\n",
    "I like the dataset and the questions you'd like to ask. Good choice! However, you must provide some details. First, show a sample of the data and then explain what each piece represents. You must also explain what ML algorithms are available to test your questions and hypotheses. Among those you can use, which ones are you going to choose? Why? How are the ML algorithms going to help you to answer your questions? What are the tests you are going to use to see if the data/experiments support or contradict with your hypotheses? I also need a calendar: what are you going to do and when?"
   ]
  },
  {
   "cell_type": "markdown",
   "id": "d5297c06",
   "metadata": {},
   "source": [
    "# Sample of the Data\n",
    "The data contains 195 columns each representing a different attribute. \n",
    "\n",
    "* **iid, id, gender, condtn** are attributes that give information about the subject(participant) and the wave they attended. There are 552 participants and 21 waves in total. iid is a unique subject number, but is only unique in that particicular wave. Only one person has iid 1; but several people have id 1 in different waves.\n",
    "\n",
    "* **round, position, positin1, order, partner, pid, match** are attributes that explains the technical details of the experiment for that subject. Information such as how many people they met in that wave, where did they meet?... then we learn more about their partner, who were they (as in id) and most importantly did they match?\n",
    "\n",
    "* **int_corr, samerace, age_o, race_o, pf_o_att, dec_o, attr_o** Whether there was a match or not, these categories allow us to inspect the relationship between subjects based on the answers they have given beforehand. How correlated were they? were they the same age, race?\n",
    "\n",
    "* **dec_o, attr_o** these attributes tell us whether the partner wanted to match or not? and how they rated the subject?"
   ]
  },
  {
   "cell_type": "markdown",
   "id": "301a9bc7",
   "metadata": {},
   "source": [
    "#### Now inspecting the survey participants filled out before the date. (signup/Time1)\n",
    "\n",
    "* **age, field, field_cd, undergrd, mn_sat, tuition, race, from, zipcode, income, goal, career, career_c** represent general information about the subjects such as where they grew up, their income, age, race... subjects are also asked to rate their interest in certain activites on a scale of 1-10.\n",
    "\n",
    "* **goal, date, go out** Getting to know the subject better, these columns tell us how they view this dating experiment and in their usual life how social are they in terms of going on dates OR just going out.\n",
    "\n",
    "*  **exphappy, expnum** how do the subjects expect the dates to go?\n",
    "\n",
    "* The subjects are also asked to rate the importance of certain qualities they look for in a partner AND what they think the opposite race would rate them as. "
   ]
  },
  {
   "cell_type": "markdown",
   "id": "4aecef9d",
   "metadata": {},
   "source": [
    "#### Inspecting the survey participants filled out during the dating process. (Scorecard)\n",
    "\n",
    "* After each date, subjects are askes question about their dates and rate them. Finally they make a decision as yes or no.\n",
    "\n",
    "* Halfway through the dates, again, they are asked what they look for in a partner? This is interesting to examine if people change their minds once they start going on dates.\n"
   ]
  },
  {
   "cell_type": "markdown",
   "id": "cd403f2c",
   "metadata": {},
   "source": [
    "#### Survey after the dating event (followup/Time2)\n",
    "\n",
    "* First they are asked questions about the experiment, whether they enjoyed it or were satisfied with the number of dates, was the time too long during the dates? \n",
    "\n",
    "* Then they are asked about their decisions and again what they look for in a partner?\n"
   ]
  },
  {
   "cell_type": "markdown",
   "id": "c7288409",
   "metadata": {},
   "source": [
    "#### 3-4 weeks after they had been sent their matches (followup2/ Time3)\n",
    "\n",
    "Now participants know about their matches. After finding out:\n",
    "\n",
    "* Have they called their matches, set up a date? Or has anyone called them?\n",
    "\n",
    "* Lastly they are asked the same questions they were asked in all surveys. What they look for? what do they think the opposite gender looks for? Rate yourself and explain how others perceive you? Last ones are interesting to check if people's own view of them change after the dates. For example people who don't have as many dates, do they now think low of themselves? How was their confidence effected?"
   ]
  },
  {
   "cell_type": "markdown",
   "id": "734a91c8",
   "metadata": {},
   "source": [
    "Below, is a little sample of the code imported from my local computer."
   ]
  },
  {
   "cell_type": "code",
   "execution_count": 12,
   "id": "0630eb9c",
   "metadata": {},
   "outputs": [
    {
     "data": {
      "text/html": [
       "<div>\n",
       "<style scoped>\n",
       "    .dataframe tbody tr th:only-of-type {\n",
       "        vertical-align: middle;\n",
       "    }\n",
       "\n",
       "    .dataframe tbody tr th {\n",
       "        vertical-align: top;\n",
       "    }\n",
       "\n",
       "    .dataframe thead th {\n",
       "        text-align: right;\n",
       "    }\n",
       "</style>\n",
       "<table border=\"1\" class=\"dataframe\">\n",
       "  <thead>\n",
       "    <tr style=\"text-align: right;\">\n",
       "      <th></th>\n",
       "      <th>iid</th>\n",
       "      <th>id</th>\n",
       "      <th>gender</th>\n",
       "      <th>idg</th>\n",
       "      <th>condtn</th>\n",
       "      <th>wave</th>\n",
       "      <th>round</th>\n",
       "      <th>position</th>\n",
       "      <th>positin1</th>\n",
       "      <th>order</th>\n",
       "      <th>...</th>\n",
       "      <th>attr3_3</th>\n",
       "      <th>sinc3_3</th>\n",
       "      <th>intel3_3</th>\n",
       "      <th>fun3_3</th>\n",
       "      <th>amb3_3</th>\n",
       "      <th>attr5_3</th>\n",
       "      <th>sinc5_3</th>\n",
       "      <th>intel5_3</th>\n",
       "      <th>fun5_3</th>\n",
       "      <th>amb5_3</th>\n",
       "    </tr>\n",
       "  </thead>\n",
       "  <tbody>\n",
       "    <tr>\n",
       "      <th>0</th>\n",
       "      <td>1</td>\n",
       "      <td>1.0</td>\n",
       "      <td>0</td>\n",
       "      <td>1</td>\n",
       "      <td>1</td>\n",
       "      <td>1</td>\n",
       "      <td>10</td>\n",
       "      <td>7</td>\n",
       "      <td>NaN</td>\n",
       "      <td>4</td>\n",
       "      <td>...</td>\n",
       "      <td>5.0</td>\n",
       "      <td>7.0</td>\n",
       "      <td>7.0</td>\n",
       "      <td>7.0</td>\n",
       "      <td>7.0</td>\n",
       "      <td>NaN</td>\n",
       "      <td>NaN</td>\n",
       "      <td>NaN</td>\n",
       "      <td>NaN</td>\n",
       "      <td>NaN</td>\n",
       "    </tr>\n",
       "    <tr>\n",
       "      <th>1</th>\n",
       "      <td>1</td>\n",
       "      <td>1.0</td>\n",
       "      <td>0</td>\n",
       "      <td>1</td>\n",
       "      <td>1</td>\n",
       "      <td>1</td>\n",
       "      <td>10</td>\n",
       "      <td>7</td>\n",
       "      <td>NaN</td>\n",
       "      <td>3</td>\n",
       "      <td>...</td>\n",
       "      <td>5.0</td>\n",
       "      <td>7.0</td>\n",
       "      <td>7.0</td>\n",
       "      <td>7.0</td>\n",
       "      <td>7.0</td>\n",
       "      <td>NaN</td>\n",
       "      <td>NaN</td>\n",
       "      <td>NaN</td>\n",
       "      <td>NaN</td>\n",
       "      <td>NaN</td>\n",
       "    </tr>\n",
       "    <tr>\n",
       "      <th>2</th>\n",
       "      <td>1</td>\n",
       "      <td>1.0</td>\n",
       "      <td>0</td>\n",
       "      <td>1</td>\n",
       "      <td>1</td>\n",
       "      <td>1</td>\n",
       "      <td>10</td>\n",
       "      <td>7</td>\n",
       "      <td>NaN</td>\n",
       "      <td>10</td>\n",
       "      <td>...</td>\n",
       "      <td>5.0</td>\n",
       "      <td>7.0</td>\n",
       "      <td>7.0</td>\n",
       "      <td>7.0</td>\n",
       "      <td>7.0</td>\n",
       "      <td>NaN</td>\n",
       "      <td>NaN</td>\n",
       "      <td>NaN</td>\n",
       "      <td>NaN</td>\n",
       "      <td>NaN</td>\n",
       "    </tr>\n",
       "    <tr>\n",
       "      <th>3</th>\n",
       "      <td>1</td>\n",
       "      <td>1.0</td>\n",
       "      <td>0</td>\n",
       "      <td>1</td>\n",
       "      <td>1</td>\n",
       "      <td>1</td>\n",
       "      <td>10</td>\n",
       "      <td>7</td>\n",
       "      <td>NaN</td>\n",
       "      <td>5</td>\n",
       "      <td>...</td>\n",
       "      <td>5.0</td>\n",
       "      <td>7.0</td>\n",
       "      <td>7.0</td>\n",
       "      <td>7.0</td>\n",
       "      <td>7.0</td>\n",
       "      <td>NaN</td>\n",
       "      <td>NaN</td>\n",
       "      <td>NaN</td>\n",
       "      <td>NaN</td>\n",
       "      <td>NaN</td>\n",
       "    </tr>\n",
       "    <tr>\n",
       "      <th>4</th>\n",
       "      <td>1</td>\n",
       "      <td>1.0</td>\n",
       "      <td>0</td>\n",
       "      <td>1</td>\n",
       "      <td>1</td>\n",
       "      <td>1</td>\n",
       "      <td>10</td>\n",
       "      <td>7</td>\n",
       "      <td>NaN</td>\n",
       "      <td>7</td>\n",
       "      <td>...</td>\n",
       "      <td>5.0</td>\n",
       "      <td>7.0</td>\n",
       "      <td>7.0</td>\n",
       "      <td>7.0</td>\n",
       "      <td>7.0</td>\n",
       "      <td>NaN</td>\n",
       "      <td>NaN</td>\n",
       "      <td>NaN</td>\n",
       "      <td>NaN</td>\n",
       "      <td>NaN</td>\n",
       "    </tr>\n",
       "  </tbody>\n",
       "</table>\n",
       "<p>5 rows × 195 columns</p>\n",
       "</div>"
      ],
      "text/plain": [
       "   iid   id  gender  idg  condtn  wave  round  position  positin1  order  ...  \\\n",
       "0    1  1.0       0    1       1     1     10         7       NaN      4  ...   \n",
       "1    1  1.0       0    1       1     1     10         7       NaN      3  ...   \n",
       "2    1  1.0       0    1       1     1     10         7       NaN     10  ...   \n",
       "3    1  1.0       0    1       1     1     10         7       NaN      5  ...   \n",
       "4    1  1.0       0    1       1     1     10         7       NaN      7  ...   \n",
       "\n",
       "   attr3_3  sinc3_3  intel3_3  fun3_3  amb3_3  attr5_3  sinc5_3  intel5_3  \\\n",
       "0      5.0      7.0       7.0     7.0     7.0      NaN      NaN       NaN   \n",
       "1      5.0      7.0       7.0     7.0     7.0      NaN      NaN       NaN   \n",
       "2      5.0      7.0       7.0     7.0     7.0      NaN      NaN       NaN   \n",
       "3      5.0      7.0       7.0     7.0     7.0      NaN      NaN       NaN   \n",
       "4      5.0      7.0       7.0     7.0     7.0      NaN      NaN       NaN   \n",
       "\n",
       "   fun5_3  amb5_3  \n",
       "0     NaN     NaN  \n",
       "1     NaN     NaN  \n",
       "2     NaN     NaN  \n",
       "3     NaN     NaN  \n",
       "4     NaN     NaN  \n",
       "\n",
       "[5 rows x 195 columns]"
      ]
     },
     "execution_count": 12,
     "metadata": {},
     "output_type": "execute_result"
    }
   ],
   "source": [
    "import pandas as pd\n",
    "data = pd.read_csv(r\"C:\\Users\\sinem\\OneDrive\\Desktop\\Project\\Speed Dating Data.csv\")\n",
    "data.head()"
   ]
  },
  {
   "cell_type": "markdown",
   "id": "8e0e568c",
   "metadata": {},
   "source": [
    "# Choice of ML Algorithms\n",
    "- Decision Tree Algorithm : This algorithm may be used to classify certain attributes that is looked for in a partner such as attractiveness, inteligence. Which of these attributes are more loved by people in general?\n",
    "- Naive Bayers : Apparently naive bayers assumes that the presence of a particular feature in a class is unrelated to the presence of any other feature (Definition is referenced below). I asked if people's primary goal in participating in this event affect their outcome? (For example should we expect people who are looking for a serious relationship to find more or less matches than the ones who are not). It might be useful to test with the match attribute.\n",
    "- Logistic Regression Algorithm : It might be useful as the match output is binary 0 and 1.\n",
    "- Clustering : To test the hypothesis\n",
    "\n",
    "> Reference for the Naive-Bayers Definition: https://www.simplilearn.com/10-algorithms-machine-learning-engineers-need-to-know-article"
   ]
  },
  {
   "cell_type": "markdown",
   "id": "2990356e",
   "metadata": {},
   "source": [
    "# Calender\n",
    "\n",
    "| Assessment                          | Deadline |\n",
    "|-------------------------------------|----------|\n",
    "| Data Cleaning                       | Nov 27   |\n",
    "| Categorizing the Data               | Nov 29   |\n",
    "| Data Preparation                    | Dec 1   |\n",
    "| Decision Tree Learning Modeling     | Dec 6   |\n",
    "| Testing the Model                   | Dec 8   |\n",
    "| Naive Bayers Modeling               | Dec 13   |\n",
    "| Testing the Model                   | Dec 15   |\n",
    "| Logistic Regression Modeling        | Dec 20   |\n",
    "| Testing the Model                   | Dec 22   |\n",
    "| Clustering Modeling                 | Dec 27    |\n",
    "| Testing the Model                   | Dec 29   |\n",
    "| Project Delivery                    | Dec 30   |"
   ]
  },
  {
   "cell_type": "code",
   "execution_count": null,
   "id": "bda799ea",
   "metadata": {},
   "outputs": [],
   "source": []
  }
 ],
 "metadata": {
  "kernelspec": {
   "display_name": "Python 3",
   "language": "python",
   "name": "python3"
  },
  "language_info": {
   "codemirror_mode": {
    "name": "ipython",
    "version": 3
   },
   "file_extension": ".py",
   "mimetype": "text/x-python",
   "name": "python",
   "nbconvert_exporter": "python",
   "pygments_lexer": "ipython3",
   "version": "3.8.8"
  }
 },
 "nbformat": 4,
 "nbformat_minor": 5
}
